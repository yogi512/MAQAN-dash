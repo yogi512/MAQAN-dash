{
 "cells": [
  {
   "cell_type": "code",
   "execution_count": 12,
   "metadata": {},
   "outputs": [
    {
     "name": "stderr",
     "output_type": "stream",
     "text": [
      "c:\\ProgramData\\Anaconda3\\lib\\site-packages\\scipy\\__init__.py:138: UserWarning:\n",
      "\n",
      "A NumPy version >=1.16.5 and <1.23.0 is required for this version of SciPy (detected version 1.23.5)\n",
      "\n"
     ]
    }
   ],
   "source": [
    "import pandas as pd \n",
    "import json \n",
    "import numpy as np \n",
    "import matplotlib.pyplot as plt \n",
    "import seaborn as sns \n",
    "from scipy.signal import find_peaks\n"
   ]
  },
  {
   "cell_type": "code",
   "execution_count": null,
   "metadata": {},
   "outputs": [],
   "source": [
    "from dash import Dash, html, dcc\n",
    "import plotly.express as px\n",
    "import pandas as pd\n",
    "\n",
    "app = Dash(__name__)\n"
   ]
  },
  {
   "cell_type": "code",
   "execution_count": 30,
   "metadata": {},
   "outputs": [
    {
     "name": "stdout",
     "output_type": "stream",
     "text": [
      "[   5  837 1674]\n",
      "Dash is running on http://127.0.0.1:8050/\n",
      "\n",
      " * Serving Flask app \"__main__\" (lazy loading)\n",
      " * Environment: production\n",
      "   WARNING: This is a development server. Do not use it in a production deployment.\n",
      "   Use a production WSGI server instead.\n",
      " * Debug mode: off\n"
     ]
    },
    {
     "name": "stderr",
     "output_type": "stream",
     "text": [
      " * Running on http://127.0.0.1:8050/ (Press CTRL+C to quit)\n",
      "127.0.0.1 - - [10/May/2023 22:31:30] \"\u001b[37mGET / HTTP/1.1\u001b[0m\" 200 -\n",
      "127.0.0.1 - - [10/May/2023 22:31:30] \"\u001b[37mGET /_dash-layout HTTP/1.1\u001b[0m\" 200 -\n",
      "127.0.0.1 - - [10/May/2023 22:31:30] \"\u001b[37mGET /_dash-dependencies HTTP/1.1\u001b[0m\" 200 -\n",
      "127.0.0.1 - - [10/May/2023 22:31:30] \"\u001b[37mGET /_dash-component-suites/dash/dcc/async-graph.js HTTP/1.1\u001b[0m\" 200 -\n",
      "127.0.0.1 - - [10/May/2023 22:31:30] \"\u001b[37mGET /_dash-component-suites/dash/dcc/async-plotlyjs.js HTTP/1.1\u001b[0m\" 200 -\n",
      "127.0.0.1 - - [10/May/2023 22:31:30] \"\u001b[37mGET /_favicon.ico?v=2.9.3 HTTP/1.1\u001b[0m\" 200 -\n",
      "127.0.0.1 - - [10/May/2023 22:31:33] \"\u001b[37mGET / HTTP/1.1\u001b[0m\" 200 -\n",
      "127.0.0.1 - - [10/May/2023 22:31:33] \"\u001b[37mGET /_dash-layout HTTP/1.1\u001b[0m\" 200 -\n",
      "127.0.0.1 - - [10/May/2023 22:31:33] \"\u001b[37mGET /_dash-dependencies HTTP/1.1\u001b[0m\" 200 -\n",
      "127.0.0.1 - - [10/May/2023 22:31:33] \"\u001b[37mGET /_dash-component-suites/dash/dcc/async-graph.js HTTP/1.1\u001b[0m\" 200 -\n",
      "127.0.0.1 - - [10/May/2023 22:31:33] \"\u001b[37mGET /_favicon.ico?v=2.9.3 HTTP/1.1\u001b[0m\" 200 -\n",
      "127.0.0.1 - - [10/May/2023 22:31:33] \"\u001b[37mGET /_dash-component-suites/dash/dcc/async-plotlyjs.js HTTP/1.1\u001b[0m\" 200 -\n",
      "127.0.0.1 - - [10/May/2023 22:31:35] \"\u001b[37mGET / HTTP/1.1\u001b[0m\" 200 -\n",
      "127.0.0.1 - - [10/May/2023 22:31:35] \"\u001b[37mGET /_dash-layout HTTP/1.1\u001b[0m\" 200 -\n",
      "127.0.0.1 - - [10/May/2023 22:31:35] \"\u001b[37mGET /_dash-dependencies HTTP/1.1\u001b[0m\" 200 -\n",
      "127.0.0.1 - - [10/May/2023 22:31:35] \"\u001b[37mGET /_favicon.ico?v=2.9.3 HTTP/1.1\u001b[0m\" 200 -\n",
      "127.0.0.1 - - [10/May/2023 22:31:35] \"\u001b[37mGET /_dash-component-suites/dash/dcc/async-graph.js HTTP/1.1\u001b[0m\" 200 -\n",
      "127.0.0.1 - - [10/May/2023 22:31:35] \"\u001b[37mGET /_dash-component-suites/dash/dcc/async-plotlyjs.js HTTP/1.1\u001b[0m\" 200 -\n"
     ]
    }
   ],
   "source": [
    "\n",
    "import plotly.graph_objects as go\n",
    "import numpy as np\n",
    "import pandas as pd\n",
    "from scipy.signal import find_peaks\n",
    "\n",
    "\n",
    "df1= pd.read_table('RP_1_0001-trace.dat', sep='\\s+')\n",
    "df1.columns=['Distance','dB']\n",
    "indices = find_peaks(df1['dB'],height=20)[0]\n",
    "print(indices)\n",
    "\n",
    "colors = {\n",
    "    'background': '#ffffff',\n",
    "    'text': '#000000'\n",
    "}\n",
    "\n",
    "\n",
    "fig = go.Figure()\n",
    "fig.add_trace(go.Line(\n",
    "    x=df1['Distance'],\n",
    "    y=df1['dB'],   \n",
    "    name='Loss'\n",
    "    # mode='lines+markers',\n",
    "))\n",
    "names=['ERNET','SETS','']\n",
    "fig.add_trace(go.Scatter(\n",
    "    x=[df1['Distance'][i] for i in indices if i!=''],\n",
    "    y=[df1['dB'][j] for j in indices if j!=''],\n",
    "    text=['ERNET','SETS','GHOST'],\n",
    "    textposition=\"top center\",\n",
    "    mode='markers+text',\n",
    "    marker=dict(\n",
    "        size=8,\n",
    "        color='red',\n",
    "        symbol='cross'\n",
    "    ),\n",
    "    name='Peaks'\n",
    "))\n",
    "\n",
    "fig.update_layout(\n",
    "    font_family=\"Montserrat Semibold\",\n",
    "    font_color=\"black\"    \n",
    ")\n",
    "\n",
    "\n",
    "\n",
    "app.layout = html.Div(style={'backgroundColor': colors['background']}, children=[\n",
    "    html.H1(\n",
    "        children='MAQAN DASHBOARD',\n",
    "        style={\n",
    "            'textAlign': 'center',\n",
    "            'color': colors['text'],\n",
    "            'font_family':'Arial'\n",
    "        }\n",
    "    ),\n",
    " \n",
    "    dcc.Graph(\n",
    "        id='Graph1',\n",
    "        figure=fig\n",
    "    )\n",
    "])\n",
    "app.run_server()"
   ]
  }
 ],
 "metadata": {
  "kernelspec": {
   "display_name": "base",
   "language": "python",
   "name": "python3"
  },
  "language_info": {
   "codemirror_mode": {
    "name": "ipython",
    "version": 3
   },
   "file_extension": ".py",
   "mimetype": "text/x-python",
   "name": "python",
   "nbconvert_exporter": "python",
   "pygments_lexer": "ipython3",
   "version": "3.8.8"
  },
  "orig_nbformat": 4
 },
 "nbformat": 4,
 "nbformat_minor": 2
}
