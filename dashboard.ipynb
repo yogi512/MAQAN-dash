{
 "cells": [
  {
   "cell_type": "code",
   "execution_count": 44,
   "metadata": {},
   "outputs": [],
   "source": [
    "from dash import Dash, html, dcc\n",
    "import plotly.express as px\n",
    "import pandas as pd\n",
    "from datetime import date\n",
    "import plotly.graph_objects as go\n",
    "import numpy as np\n",
    "import pandas as pd\n",
    "from scipy.signal import find_peaks\n",
    "from dash.dependencies import Input, Output\n",
    "\n",
    "\n",
    "app = Dash(__name__)\n"
   ]
  },
  {
   "cell_type": "code",
   "execution_count": 49,
   "metadata": {},
   "outputs": [
    {
     "data": {
      "text/plain": [
       "5"
      ]
     },
     "execution_count": 49,
     "metadata": {},
     "output_type": "execute_result"
    }
   ],
   "source": [
    "date.today().month"
   ]
  },
  {
   "cell_type": "code",
   "execution_count": 82,
   "metadata": {},
   "outputs": [
    {
     "name": "stdout",
     "output_type": "stream",
     "text": [
      "[   5  837 1674]\n",
      "Dash is running on http://127.0.0.1:8050/\n",
      "\n",
      " * Serving Flask app \"__main__\" (lazy loading)\n",
      " * Environment: production\n",
      "   WARNING: This is a development server. Do not use it in a production deployment.\n",
      "   Use a production WSGI server instead.\n",
      " * Debug mode: off\n"
     ]
    },
    {
     "name": "stderr",
     "output_type": "stream",
     "text": [
      " * Running on http://127.0.0.1:8050/ (Press CTRL+C to quit)\n",
      "127.0.0.1 - - [11/May/2023 08:48:03] \"\u001b[37mGET / HTTP/1.1\u001b[0m\" 200 -\n",
      "127.0.0.1 - - [11/May/2023 08:48:03] \"\u001b[37mGET /_dash-layout HTTP/1.1\u001b[0m\" 200 -\n",
      "127.0.0.1 - - [11/May/2023 08:48:03] \"\u001b[37mGET /_dash-dependencies HTTP/1.1\u001b[0m\" 200 -\n",
      "127.0.0.1 - - [11/May/2023 08:48:03] \"\u001b[37mGET /_favicon.ico?v=2.9.3 HTTP/1.1\u001b[0m\" 200 -\n",
      "127.0.0.1 - - [11/May/2023 08:48:03] \"\u001b[37mGET /_dash-component-suites/dash/dcc/async-graph.js HTTP/1.1\u001b[0m\" 200 -\n",
      "127.0.0.1 - - [11/May/2023 08:48:03] \"\u001b[37mGET /_dash-component-suites/dash/dcc/async-datepicker.js HTTP/1.1\u001b[0m\" 200 -\n",
      "127.0.0.1 - - [11/May/2023 08:48:03] \"\u001b[37mGET /_dash-component-suites/dash/dcc/async-plotlyjs.js HTTP/1.1\u001b[0m\" 200 -\n"
     ]
    }
   ],
   "source": [
    "\n",
    "# Converting Dat file to dataframe\n",
    "df1= pd.read_table('RP_1_0001-trace.dat', sep='\\s+')\n",
    "df1.columns=['Distance','dB']\n",
    "indices = find_peaks(df1['dB'],height=20)[0]\n",
    "print(indices)\n",
    "\n",
    "\n",
    "# Plotting the dataframe\n",
    "fig = go.Figure()\n",
    "fig.add_trace(go.Line(\n",
    "    x=df1['Distance'],\n",
    "    y=df1['dB'],   \n",
    "    name='Loss'\n",
    "   \n",
    "    # mode='lines+markers',\n",
    "))\n",
    "\n",
    "# Plotting the Peaks\n",
    "names=['ERNET','SETS','']\n",
    "fig.add_trace(go.Scatter(\n",
    "    x=[df1['Distance'][i] for i in indices if i!=''],\n",
    "    y=[df1['dB'][j] for j in indices if j!=''],\n",
    "    text=['ERNET','SETS','GHOST'],\n",
    "    textposition=\"top center\",\n",
    "    mode='markers+text',\n",
    "    marker=dict(\n",
    "        size=8,\n",
    "        color='red',\n",
    "        symbol='cross'\n",
    "    ),\n",
    "    name='Peaks'\n",
    "))\n",
    "\n",
    "# Updating Style\n",
    "fig.update_layout(\n",
    "    title={'text':\"OTDR Trace \",'font_size':34},\n",
    "    xaxis_title=\"Distance (km)\",\n",
    "    yaxis_title=\"dB\",\n",
    "    font_family=\"Montserrat Semibold\",\n",
    "    font_color=\"black\"   \n",
    ")\n",
    "fig.update_traces(line_color='#1c1480')\n",
    "colors = {\n",
    "    'background': '#ffffff',\n",
    "    'text': '#000000'\n",
    "}\n",
    "\n",
    "# Dashboard Layout \n",
    "app.layout = html.Div(style={'backgroundColor': colors['background']}, children=[\n",
    "    html.H1(\n",
    "        children='MAQAN DASHBOARD',\n",
    "        style={\n",
    "            'textAlign': 'center',\n",
    "            'color': colors['text'],\n",
    "            'font_family':'Montserrat Semibold'\n",
    "        }\n",
    "    ),\n",
    "    html.Div([\n",
    "    dcc.DatePickerSingle(\n",
    "        id='selectedDate',\n",
    "        display_format=\"DD MM YYYY\",\n",
    "        min_date_allowed=date(2023,1,1),\n",
    "        max_date_allowed=date.today(),\n",
    "        initial_visible_month=date.today().month,\n",
    "        date=date.today(),\n",
    "        style={\n",
    "        'align':'center'\n",
    "    },\n",
    "    ),\n",
    "    html.Div(id='datePicker')\n",
    "    \n",
    "    ]),\n",
    "    dcc.Graph(\n",
    "        id='Graph1',\n",
    "        figure=fig\n",
    "    )\n",
    "    \n",
    "])\n",
    "\n",
    "\n",
    "@app.callback(\n",
    "    Output('datePicker', 'children'),\n",
    "    Input('selectedDate', 'date'))\n",
    "def update_output(date_value):\n",
    "    string_prefix = 'You have selected: '\n",
    "    if date_value is not None:\n",
    "        date_object = date.fromisoformat(date_value)\n",
    "        date_string = date_object.strftime('%d,%B,%Y')\n",
    "        return string_prefix + date_string\n",
    "app.run_server()"
   ]
  },
  {
   "cell_type": "code",
   "execution_count": 9,
   "metadata": {},
   "outputs": [
    {
     "data": {
      "text/plain": [
       "{'a': 1, 'b': 1, 'c': 1, 'd': 1}"
      ]
     },
     "execution_count": 9,
     "metadata": {},
     "output_type": "execute_result"
    }
   ],
   "source": [
    "str1='abcd'\n",
    "str2='abcde'\n",
    "\n",
    "dict1={}\n",
    "dict2={}\n",
    "\n",
    "\n",
    "for val in str1:\n",
    "    dict1[val]=0\n",
    "    \n",
    "\n",
    "for val in str1:\n",
    "    dict1[val]+=1\n",
    "\n",
    "\n",
    "dict1"
   ]
  }
 ],
 "metadata": {
  "kernelspec": {
   "display_name": "base",
   "language": "python",
   "name": "python3"
  },
  "language_info": {
   "codemirror_mode": {
    "name": "ipython",
    "version": 3
   },
   "file_extension": ".py",
   "mimetype": "text/x-python",
   "name": "python",
   "nbconvert_exporter": "python",
   "pygments_lexer": "ipython3",
   "version": "3.8.8"
  },
  "orig_nbformat": 4
 },
 "nbformat": 4,
 "nbformat_minor": 2
}
